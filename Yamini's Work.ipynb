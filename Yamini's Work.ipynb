{
 "cells": [
  {
   "cell_type": "code",
   "execution_count": 1,
   "metadata": {},
   "outputs": [],
   "source": [
    "% matplotlib inline"
   ]
  },
  {
   "cell_type": "code",
   "execution_count": 58,
   "metadata": {},
   "outputs": [],
   "source": [
    "import matplotlib.pyplot as plt\n",
    "import pandas as pd\n",
    "import numpy as np\n",
    "import os\n",
    "\n",
    "from scipy import stats"
   ]
  },
  {
   "cell_type": "code",
   "execution_count": 3,
   "metadata": {
    "scrolled": true
   },
   "outputs": [
    {
     "data": {
      "text/html": [
       "<div>\n",
       "<style scoped>\n",
       "    .dataframe tbody tr th:only-of-type {\n",
       "        vertical-align: middle;\n",
       "    }\n",
       "\n",
       "    .dataframe tbody tr th {\n",
       "        vertical-align: top;\n",
       "    }\n",
       "\n",
       "    .dataframe thead th {\n",
       "        text-align: right;\n",
       "    }\n",
       "</style>\n",
       "<table border=\"1\" class=\"dataframe\">\n",
       "  <thead>\n",
       "    <tr style=\"text-align: right;\">\n",
       "      <th></th>\n",
       "      <th>Subject ID</th>\n",
       "      <th>MRI ID</th>\n",
       "      <th>Group</th>\n",
       "      <th>Visit</th>\n",
       "      <th>MR Delay</th>\n",
       "      <th>M/F</th>\n",
       "      <th>Hand</th>\n",
       "      <th>Age</th>\n",
       "      <th>EDUC</th>\n",
       "      <th>EDU_SCALED</th>\n",
       "      <th>SES</th>\n",
       "      <th>MMSE</th>\n",
       "      <th>CDR</th>\n",
       "      <th>eTIV</th>\n",
       "      <th>nWBV</th>\n",
       "      <th>ASF</th>\n",
       "    </tr>\n",
       "  </thead>\n",
       "  <tbody>\n",
       "    <tr>\n",
       "      <th>0</th>\n",
       "      <td>OAS2_0018</td>\n",
       "      <td>OAS2_0018_MR1</td>\n",
       "      <td>Converted</td>\n",
       "      <td>1</td>\n",
       "      <td>0</td>\n",
       "      <td>F</td>\n",
       "      <td>R</td>\n",
       "      <td>87</td>\n",
       "      <td>14</td>\n",
       "      <td>2.882353</td>\n",
       "      <td>1.0</td>\n",
       "      <td>30.0</td>\n",
       "      <td>0.0</td>\n",
       "      <td>1406</td>\n",
       "      <td>0.715</td>\n",
       "      <td>1.248</td>\n",
       "    </tr>\n",
       "    <tr>\n",
       "      <th>1</th>\n",
       "      <td>OAS2_0018</td>\n",
       "      <td>OAS2_0018_MR3</td>\n",
       "      <td>Converted</td>\n",
       "      <td>3</td>\n",
       "      <td>489</td>\n",
       "      <td>F</td>\n",
       "      <td>R</td>\n",
       "      <td>88</td>\n",
       "      <td>14</td>\n",
       "      <td>2.882353</td>\n",
       "      <td>1.0</td>\n",
       "      <td>29.0</td>\n",
       "      <td>0.0</td>\n",
       "      <td>1398</td>\n",
       "      <td>0.713</td>\n",
       "      <td>1.255</td>\n",
       "    </tr>\n",
       "    <tr>\n",
       "      <th>2</th>\n",
       "      <td>OAS2_0020</td>\n",
       "      <td>OAS2_0020_MR1</td>\n",
       "      <td>Converted</td>\n",
       "      <td>1</td>\n",
       "      <td>0</td>\n",
       "      <td>M</td>\n",
       "      <td>R</td>\n",
       "      <td>80</td>\n",
       "      <td>20</td>\n",
       "      <td>4.294118</td>\n",
       "      <td>1.0</td>\n",
       "      <td>29.0</td>\n",
       "      <td>0.0</td>\n",
       "      <td>1587</td>\n",
       "      <td>0.693</td>\n",
       "      <td>1.106</td>\n",
       "    </tr>\n",
       "    <tr>\n",
       "      <th>3</th>\n",
       "      <td>OAS2_0031</td>\n",
       "      <td>OAS2_0031_MR1</td>\n",
       "      <td>Converted</td>\n",
       "      <td>1</td>\n",
       "      <td>0</td>\n",
       "      <td>F</td>\n",
       "      <td>R</td>\n",
       "      <td>86</td>\n",
       "      <td>12</td>\n",
       "      <td>2.411765</td>\n",
       "      <td>3.0</td>\n",
       "      <td>30.0</td>\n",
       "      <td>0.0</td>\n",
       "      <td>1430</td>\n",
       "      <td>0.718</td>\n",
       "      <td>1.227</td>\n",
       "    </tr>\n",
       "    <tr>\n",
       "      <th>4</th>\n",
       "      <td>OAS2_0031</td>\n",
       "      <td>OAS2_0031_MR2</td>\n",
       "      <td>Converted</td>\n",
       "      <td>2</td>\n",
       "      <td>446</td>\n",
       "      <td>F</td>\n",
       "      <td>R</td>\n",
       "      <td>88</td>\n",
       "      <td>12</td>\n",
       "      <td>2.411765</td>\n",
       "      <td>3.0</td>\n",
       "      <td>30.0</td>\n",
       "      <td>0.0</td>\n",
       "      <td>1445</td>\n",
       "      <td>0.719</td>\n",
       "      <td>1.215</td>\n",
       "    </tr>\n",
       "  </tbody>\n",
       "</table>\n",
       "</div>"
      ],
      "text/plain": [
       "  Subject ID         MRI ID      Group  Visit  MR Delay M/F Hand  Age  EDUC  \\\n",
       "0  OAS2_0018  OAS2_0018_MR1  Converted      1         0   F    R   87    14   \n",
       "1  OAS2_0018  OAS2_0018_MR3  Converted      3       489   F    R   88    14   \n",
       "2  OAS2_0020  OAS2_0020_MR1  Converted      1         0   M    R   80    20   \n",
       "3  OAS2_0031  OAS2_0031_MR1  Converted      1         0   F    R   86    12   \n",
       "4  OAS2_0031  OAS2_0031_MR2  Converted      2       446   F    R   88    12   \n",
       "\n",
       "   EDU_SCALED  SES  MMSE  CDR  eTIV   nWBV    ASF  \n",
       "0    2.882353  1.0  30.0  0.0  1406  0.715  1.248  \n",
       "1    2.882353  1.0  29.0  0.0  1398  0.713  1.255  \n",
       "2    4.294118  1.0  29.0  0.0  1587  0.693  1.106  \n",
       "3    2.411765  3.0  30.0  0.0  1430  0.718  1.227  \n",
       "4    2.411765  3.0  30.0  0.0  1445  0.719  1.215  "
      ]
     },
     "execution_count": 3,
     "metadata": {},
     "output_type": "execute_result"
    }
   ],
   "source": [
    "path = os.path.join('calcs.csv')\n",
    "df = pd.read_csv(path)\n",
    "df.head()"
   ]
  },
  {
   "cell_type": "code",
   "execution_count": 4,
   "metadata": {},
   "outputs": [
    {
     "data": {
      "text/plain": [
       "Subject ID    354\n",
       "MRI ID        354\n",
       "Group         354\n",
       "Visit         354\n",
       "MR Delay      354\n",
       "M/F           354\n",
       "Hand          354\n",
       "Age           354\n",
       "EDUC          354\n",
       "EDU_SCALED    354\n",
       "SES           354\n",
       "MMSE          354\n",
       "CDR           354\n",
       "eTIV          354\n",
       "nWBV          354\n",
       "ASF           354\n",
       "dtype: int64"
      ]
     },
     "execution_count": 4,
     "metadata": {},
     "output_type": "execute_result"
    }
   ],
   "source": [
    "df.count()\n",
    "df = df.dropna(how='any')\n",
    "df.count()"
   ]
  },
  {
   "cell_type": "code",
   "execution_count": 5,
   "metadata": {},
   "outputs": [
    {
     "data": {
      "text/html": [
       "<div>\n",
       "<style scoped>\n",
       "    .dataframe tbody tr th:only-of-type {\n",
       "        vertical-align: middle;\n",
       "    }\n",
       "\n",
       "    .dataframe tbody tr th {\n",
       "        vertical-align: top;\n",
       "    }\n",
       "\n",
       "    .dataframe thead th {\n",
       "        text-align: right;\n",
       "    }\n",
       "</style>\n",
       "<table border=\"1\" class=\"dataframe\">\n",
       "  <thead>\n",
       "    <tr style=\"text-align: right;\">\n",
       "      <th></th>\n",
       "      <th></th>\n",
       "      <th>Group</th>\n",
       "      <th>Visit</th>\n",
       "      <th>MR Delay</th>\n",
       "      <th>M/F</th>\n",
       "      <th>Hand</th>\n",
       "      <th>Age</th>\n",
       "      <th>EDUC</th>\n",
       "      <th>EDU_SCALED</th>\n",
       "      <th>SES</th>\n",
       "      <th>MMSE</th>\n",
       "      <th>CDR</th>\n",
       "      <th>eTIV</th>\n",
       "      <th>nWBV</th>\n",
       "      <th>ASF</th>\n",
       "    </tr>\n",
       "    <tr>\n",
       "      <th>Subject ID</th>\n",
       "      <th>MRI ID</th>\n",
       "      <th></th>\n",
       "      <th></th>\n",
       "      <th></th>\n",
       "      <th></th>\n",
       "      <th></th>\n",
       "      <th></th>\n",
       "      <th></th>\n",
       "      <th></th>\n",
       "      <th></th>\n",
       "      <th></th>\n",
       "      <th></th>\n",
       "      <th></th>\n",
       "      <th></th>\n",
       "      <th></th>\n",
       "    </tr>\n",
       "  </thead>\n",
       "  <tbody>\n",
       "    <tr>\n",
       "      <th rowspan=\"2\" valign=\"top\">OAS2_0018</th>\n",
       "      <th>OAS2_0018_MR1</th>\n",
       "      <td>Converted</td>\n",
       "      <td>1</td>\n",
       "      <td>0</td>\n",
       "      <td>F</td>\n",
       "      <td>R</td>\n",
       "      <td>87</td>\n",
       "      <td>14</td>\n",
       "      <td>2.882353</td>\n",
       "      <td>1.0</td>\n",
       "      <td>30.0</td>\n",
       "      <td>0.0</td>\n",
       "      <td>1406</td>\n",
       "      <td>0.715</td>\n",
       "      <td>1.248</td>\n",
       "    </tr>\n",
       "    <tr>\n",
       "      <th>OAS2_0018_MR3</th>\n",
       "      <td>Converted</td>\n",
       "      <td>3</td>\n",
       "      <td>489</td>\n",
       "      <td>F</td>\n",
       "      <td>R</td>\n",
       "      <td>88</td>\n",
       "      <td>14</td>\n",
       "      <td>2.882353</td>\n",
       "      <td>1.0</td>\n",
       "      <td>29.0</td>\n",
       "      <td>0.0</td>\n",
       "      <td>1398</td>\n",
       "      <td>0.713</td>\n",
       "      <td>1.255</td>\n",
       "    </tr>\n",
       "    <tr>\n",
       "      <th>OAS2_0020</th>\n",
       "      <th>OAS2_0020_MR1</th>\n",
       "      <td>Converted</td>\n",
       "      <td>1</td>\n",
       "      <td>0</td>\n",
       "      <td>M</td>\n",
       "      <td>R</td>\n",
       "      <td>80</td>\n",
       "      <td>20</td>\n",
       "      <td>4.294118</td>\n",
       "      <td>1.0</td>\n",
       "      <td>29.0</td>\n",
       "      <td>0.0</td>\n",
       "      <td>1587</td>\n",
       "      <td>0.693</td>\n",
       "      <td>1.106</td>\n",
       "    </tr>\n",
       "    <tr>\n",
       "      <th rowspan=\"2\" valign=\"top\">OAS2_0031</th>\n",
       "      <th>OAS2_0031_MR1</th>\n",
       "      <td>Converted</td>\n",
       "      <td>1</td>\n",
       "      <td>0</td>\n",
       "      <td>F</td>\n",
       "      <td>R</td>\n",
       "      <td>86</td>\n",
       "      <td>12</td>\n",
       "      <td>2.411765</td>\n",
       "      <td>3.0</td>\n",
       "      <td>30.0</td>\n",
       "      <td>0.0</td>\n",
       "      <td>1430</td>\n",
       "      <td>0.718</td>\n",
       "      <td>1.227</td>\n",
       "    </tr>\n",
       "    <tr>\n",
       "      <th>OAS2_0031_MR2</th>\n",
       "      <td>Converted</td>\n",
       "      <td>2</td>\n",
       "      <td>446</td>\n",
       "      <td>F</td>\n",
       "      <td>R</td>\n",
       "      <td>88</td>\n",
       "      <td>12</td>\n",
       "      <td>2.411765</td>\n",
       "      <td>3.0</td>\n",
       "      <td>30.0</td>\n",
       "      <td>0.0</td>\n",
       "      <td>1445</td>\n",
       "      <td>0.719</td>\n",
       "      <td>1.215</td>\n",
       "    </tr>\n",
       "  </tbody>\n",
       "</table>\n",
       "</div>"
      ],
      "text/plain": [
       "                              Group  Visit  MR Delay M/F Hand  Age  EDUC  \\\n",
       "Subject ID MRI ID                                                          \n",
       "OAS2_0018  OAS2_0018_MR1  Converted      1         0   F    R   87    14   \n",
       "           OAS2_0018_MR3  Converted      3       489   F    R   88    14   \n",
       "OAS2_0020  OAS2_0020_MR1  Converted      1         0   M    R   80    20   \n",
       "OAS2_0031  OAS2_0031_MR1  Converted      1         0   F    R   86    12   \n",
       "           OAS2_0031_MR2  Converted      2       446   F    R   88    12   \n",
       "\n",
       "                          EDU_SCALED  SES  MMSE  CDR  eTIV   nWBV    ASF  \n",
       "Subject ID MRI ID                                                         \n",
       "OAS2_0018  OAS2_0018_MR1    2.882353  1.0  30.0  0.0  1406  0.715  1.248  \n",
       "           OAS2_0018_MR3    2.882353  1.0  29.0  0.0  1398  0.713  1.255  \n",
       "OAS2_0020  OAS2_0020_MR1    4.294118  1.0  29.0  0.0  1587  0.693  1.106  \n",
       "OAS2_0031  OAS2_0031_MR1    2.411765  3.0  30.0  0.0  1430  0.718  1.227  \n",
       "           OAS2_0031_MR2    2.411765  3.0  30.0  0.0  1445  0.719  1.215  "
      ]
     },
     "execution_count": 5,
     "metadata": {},
     "output_type": "execute_result"
    }
   ],
   "source": [
    "df.head()\n",
    "df2 = df.set_index(['Subject ID','MRI ID'])\n",
    "df2.head()"
   ]
  },
  {
   "cell_type": "code",
   "execution_count": 6,
   "metadata": {},
   "outputs": [
    {
     "name": "stdout",
     "output_type": "stream",
     "text": [
      "M/F\n",
      "F    84\n",
      "M    58\n",
      "Name: Subject ID, dtype: int64\n"
     ]
    },
    {
     "data": {
      "image/png": "[encoded data removed]",
      "text/plain": [
       "<Figure size 432x288 with 1 Axes>"
      ]
     },
     "metadata": {},
     "output_type": "display_data"
    }
   ],
   "source": [
    "# LOOK OVER THIS; solved\n",
    "df3 = df.drop_duplicates(['Subject ID']).groupby('M/F').count()['Subject ID']\n",
    "bar = df3.plot(kind='bar',grid=True)\n",
    "print(df3)"
   ]
  },
  {
   "cell_type": "code",
   "execution_count": 7,
   "metadata": {
    "scrolled": false
   },
   "outputs": [
    {
     "data": {
      "text/plain": [
       "Group\n",
       "Converted      14\n",
       "Demented       56\n",
       "Nondemented    72\n",
       "Name: Subject ID, dtype: int64"
      ]
     },
     "execution_count": 7,
     "metadata": {},
     "output_type": "execute_result"
    },
    {
     "data": {
      "image/png": "[encoded data removed]",
      "text/plain": [
       "<Figure size 432x288 with 1 Axes>"
      ]
     },
     "metadata": {},
     "output_type": "display_data"
    }
   ],
   "source": [
    "df4 = df.drop_duplicates(['Subject ID'],keep='last').groupby('Group').count()['Subject ID']\n",
    "bar2 = df4.plot(kind='barh',grid=True)\n",
    "df4"
   ]
  },
  {
   "cell_type": "code",
   "execution_count": 8,
   "metadata": {
    "scrolled": false
   },
   "outputs": [
    {
     "data": {
      "text/plain": [
       "Group\n",
       "Demented       70.0\n",
       "Nondemented    72.0\n",
       "dtype: float64"
      ]
     },
     "execution_count": 8,
     "metadata": {},
     "output_type": "execute_result"
    },
    {
     "data": {
      "image/png": "[encoded data removed]",
      "text/plain": [
       "<Figure size 432x288 with 1 Axes>"
      ]
     },
     "metadata": {},
     "output_type": "display_data"
    }
   ],
   "source": [
    "bins = np.arange(60,100,3)\n",
    "# len(bins) # = 14\n",
    "groups = [f'{holder}-{bins[i+1]}' for i, holder in enumerate(bins[:-1])]\n",
    "\n",
    "df['Age Group'] = pd.cut(df['Age'],bins,labels=groups,include_lowest=True)\n",
    "\n",
    "# if possible, combine converted to demented for this chart\n",
    "df5 = df.loc[df['Group'] == 'Converted', 'Group'] = 'Demented'\n",
    "\n",
    "df5 = df.drop_duplicates(['Subject ID'],keep='last').groupby(['Age Group','Group']).count()['Subject ID'].unstack()\n",
    "df5.head(20)\n",
    "bar3 = df5.plot(kind='bar',stacked=True,grid=True)\n",
    "df5.sum()\n"
   ]
  },
  {
   "cell_type": "code",
   "execution_count": 9,
   "metadata": {
    "scrolled": true
   },
   "outputs": [
    {
     "data": {
      "image/png": "[encoded data removed]",
      "text/plain": [
       "<Figure size 432x288 with 2 Axes>"
      ]
     },
     "metadata": {},
     "output_type": "display_data"
    }
   ],
   "source": [
    "# converted = df.loc\n",
    "# demented = \n",
    "# nondemented = \n",
    "# temp = pd.DataFrame({'Converted':})\n",
    "\n",
    "df6 = df[['Subject ID','Group','Age']].drop_duplicates(['Subject ID'],keep='last').groupby('Group')\n",
    "df6.head()\n",
    "\n",
    "# df5 = df.groupby(['Age Group','Group']).count()['Subject ID'].unstack()\n",
    "box4 = df6.boxplot()\n",
    "plt.tight_layout()"
   ]
  },
  {
   "cell_type": "code",
   "execution_count": 10,
   "metadata": {},
   "outputs": [
    {
     "data": {
      "text/plain": [
       "<matplotlib.axes._subplots.AxesSubplot at 0x221d9ed56a0>"
      ]
     },
     "execution_count": 10,
     "metadata": {},
     "output_type": "execute_result"
    },
    {
     "data": {
      "image/png": "[encoded data removed]",
      "text/plain": [
       "<Figure size 432x288 with 1 Axes>"
      ]
     },
     "metadata": {},
     "output_type": "display_data"
    }
   ],
   "source": [
    "# NO TREND TO FIND, dropped n/a rows\n",
    "mag = df.drop_duplicates(['Subject ID'],keep='last')[['EDUC','SES']]\n",
    "mag.plot.scatter(x='EDUC',y='SES')"
   ]
  },
  {
   "cell_type": "code",
   "execution_count": 11,
   "metadata": {
    "scrolled": false
   },
   "outputs": [
    {
     "name": "stdout",
     "output_type": "stream",
     "text": [
      "SES\n",
      "1.0    33\n",
      "2.0    42\n",
      "3.0    34\n",
      "4.0    30\n",
      "5.0     3\n",
      "Name: Subject ID, dtype: int64\n"
     ]
    },
    {
     "data": {
      "image/png": "[encoded data removed]",
      "text/plain": [
       "<Figure size 432x288 with 1 Axes>"
      ]
     },
     "metadata": {},
     "output_type": "display_data"
    }
   ],
   "source": [
    "df7 = df.drop_duplicates(['Subject ID']).groupby('SES').count()['Subject ID']\n",
    "bar5 = df7.plot(kind='bar',grid=True)\n",
    "# scat = df7.plot.line()\n",
    "print(df7)"
   ]
  },
  {
   "cell_type": "code",
   "execution_count": 12,
   "metadata": {
    "scrolled": false
   },
   "outputs": [
    {
     "name": "stdout",
     "output_type": "stream",
     "text": [
      "EDUC\n",
      "6      1\n",
      "8      4\n",
      "11     5\n",
      "12    36\n",
      "13    10\n",
      "14    13\n",
      "15     7\n",
      "16    31\n",
      "17     3\n",
      "18    26\n",
      "20     5\n",
      "23     1\n",
      "Name: Subject ID, dtype: int64\n"
     ]
    },
    {
     "data": {
      "image/png": "[encoded data removed]",
      "text/plain": [
       "<Figure size 432x288 with 1 Axes>"
      ]
     },
     "metadata": {},
     "output_type": "display_data"
    }
   ],
   "source": [
    "# bins = np.arange(1,6,1)\n",
    "# len(bins) # = 14\n",
    "# groups = [f'{holder}-{bins[i+1]}' for i, holder in enumerate(bins[:-1])]\n",
    "# groups\n",
    "# df['Age Group'] = pd.cut(df['Age'],bins,labels=groups,include_lowest=True)\n",
    "\n",
    "df7 = df.drop_duplicates(['Subject ID']).groupby('EDUC').count()['Subject ID']\n",
    "bar6 = df7.plot(kind='bar',grid=True)\n",
    "print(df7)"
   ]
  },
  {
   "cell_type": "code",
   "execution_count": 13,
   "metadata": {},
   "outputs": [
    {
     "data": {
      "text/html": [
       "<div>\n",
       "<style scoped>\n",
       "    .dataframe tbody tr th:only-of-type {\n",
       "        vertical-align: middle;\n",
       "    }\n",
       "\n",
       "    .dataframe tbody tr th {\n",
       "        vertical-align: top;\n",
       "    }\n",
       "\n",
       "    .dataframe thead th {\n",
       "        text-align: right;\n",
       "    }\n",
       "</style>\n",
       "<table border=\"1\" class=\"dataframe\">\n",
       "  <thead>\n",
       "    <tr style=\"text-align: right;\">\n",
       "      <th></th>\n",
       "      <th></th>\n",
       "      <th>Group</th>\n",
       "      <th>Visit</th>\n",
       "      <th>MR Delay</th>\n",
       "      <th>M/F</th>\n",
       "      <th>Hand</th>\n",
       "      <th>Age</th>\n",
       "      <th>EDUC</th>\n",
       "      <th>EDU_SCALED</th>\n",
       "      <th>SES</th>\n",
       "      <th>MMSE</th>\n",
       "      <th>CDR</th>\n",
       "      <th>eTIV</th>\n",
       "      <th>nWBV</th>\n",
       "      <th>ASF</th>\n",
       "    </tr>\n",
       "    <tr>\n",
       "      <th>Subject ID</th>\n",
       "      <th>MRI ID</th>\n",
       "      <th></th>\n",
       "      <th></th>\n",
       "      <th></th>\n",
       "      <th></th>\n",
       "      <th></th>\n",
       "      <th></th>\n",
       "      <th></th>\n",
       "      <th></th>\n",
       "      <th></th>\n",
       "      <th></th>\n",
       "      <th></th>\n",
       "      <th></th>\n",
       "      <th></th>\n",
       "      <th></th>\n",
       "    </tr>\n",
       "  </thead>\n",
       "  <tbody>\n",
       "    <tr>\n",
       "      <th rowspan=\"2\" valign=\"top\">OAS2_0018</th>\n",
       "      <th>OAS2_0018_MR1</th>\n",
       "      <td>Converted</td>\n",
       "      <td>1</td>\n",
       "      <td>0</td>\n",
       "      <td>F</td>\n",
       "      <td>R</td>\n",
       "      <td>87</td>\n",
       "      <td>14</td>\n",
       "      <td>2.882353</td>\n",
       "      <td>1.0</td>\n",
       "      <td>30.0</td>\n",
       "      <td>0.0</td>\n",
       "      <td>1406</td>\n",
       "      <td>0.715</td>\n",
       "      <td>1.248</td>\n",
       "    </tr>\n",
       "    <tr>\n",
       "      <th>OAS2_0018_MR3</th>\n",
       "      <td>Converted</td>\n",
       "      <td>3</td>\n",
       "      <td>489</td>\n",
       "      <td>F</td>\n",
       "      <td>R</td>\n",
       "      <td>88</td>\n",
       "      <td>14</td>\n",
       "      <td>2.882353</td>\n",
       "      <td>1.0</td>\n",
       "      <td>29.0</td>\n",
       "      <td>0.0</td>\n",
       "      <td>1398</td>\n",
       "      <td>0.713</td>\n",
       "      <td>1.255</td>\n",
       "    </tr>\n",
       "    <tr>\n",
       "      <th>OAS2_0020</th>\n",
       "      <th>OAS2_0020_MR1</th>\n",
       "      <td>Converted</td>\n",
       "      <td>1</td>\n",
       "      <td>0</td>\n",
       "      <td>M</td>\n",
       "      <td>R</td>\n",
       "      <td>80</td>\n",
       "      <td>20</td>\n",
       "      <td>4.294118</td>\n",
       "      <td>1.0</td>\n",
       "      <td>29.0</td>\n",
       "      <td>0.0</td>\n",
       "      <td>1587</td>\n",
       "      <td>0.693</td>\n",
       "      <td>1.106</td>\n",
       "    </tr>\n",
       "    <tr>\n",
       "      <th rowspan=\"2\" valign=\"top\">OAS2_0031</th>\n",
       "      <th>OAS2_0031_MR1</th>\n",
       "      <td>Converted</td>\n",
       "      <td>1</td>\n",
       "      <td>0</td>\n",
       "      <td>F</td>\n",
       "      <td>R</td>\n",
       "      <td>86</td>\n",
       "      <td>12</td>\n",
       "      <td>2.411765</td>\n",
       "      <td>3.0</td>\n",
       "      <td>30.0</td>\n",
       "      <td>0.0</td>\n",
       "      <td>1430</td>\n",
       "      <td>0.718</td>\n",
       "      <td>1.227</td>\n",
       "    </tr>\n",
       "    <tr>\n",
       "      <th>OAS2_0031_MR2</th>\n",
       "      <td>Converted</td>\n",
       "      <td>2</td>\n",
       "      <td>446</td>\n",
       "      <td>F</td>\n",
       "      <td>R</td>\n",
       "      <td>88</td>\n",
       "      <td>12</td>\n",
       "      <td>2.411765</td>\n",
       "      <td>3.0</td>\n",
       "      <td>30.0</td>\n",
       "      <td>0.0</td>\n",
       "      <td>1445</td>\n",
       "      <td>0.719</td>\n",
       "      <td>1.215</td>\n",
       "    </tr>\n",
       "  </tbody>\n",
       "</table>\n",
       "</div>"
      ],
      "text/plain": [
       "                              Group  Visit  MR Delay M/F Hand  Age  EDUC  \\\n",
       "Subject ID MRI ID                                                          \n",
       "OAS2_0018  OAS2_0018_MR1  Converted      1         0   F    R   87    14   \n",
       "           OAS2_0018_MR3  Converted      3       489   F    R   88    14   \n",
       "OAS2_0020  OAS2_0020_MR1  Converted      1         0   M    R   80    20   \n",
       "OAS2_0031  OAS2_0031_MR1  Converted      1         0   F    R   86    12   \n",
       "           OAS2_0031_MR2  Converted      2       446   F    R   88    12   \n",
       "\n",
       "                          EDU_SCALED  SES  MMSE  CDR  eTIV   nWBV    ASF  \n",
       "Subject ID MRI ID                                                         \n",
       "OAS2_0018  OAS2_0018_MR1    2.882353  1.0  30.0  0.0  1406  0.715  1.248  \n",
       "           OAS2_0018_MR3    2.882353  1.0  29.0  0.0  1398  0.713  1.255  \n",
       "OAS2_0020  OAS2_0020_MR1    4.294118  1.0  29.0  0.0  1587  0.693  1.106  \n",
       "OAS2_0031  OAS2_0031_MR1    2.411765  3.0  30.0  0.0  1430  0.718  1.227  \n",
       "           OAS2_0031_MR2    2.411765  3.0  30.0  0.0  1445  0.719  1.215  "
      ]
     },
     "execution_count": 13,
     "metadata": {},
     "output_type": "execute_result"
    }
   ],
   "source": [
    "df2.head()"
   ]
  },
  {
   "cell_type": "code",
   "execution_count": 14,
   "metadata": {},
   "outputs": [
    {
     "data": {
      "text/plain": [
       "<matplotlib.axes._subplots.AxesSubplot at 0x221d9ed5208>"
      ]
     },
     "execution_count": 14,
     "metadata": {},
     "output_type": "execute_result"
    },
    {
     "data": {
      "image/png": "[encoded data removed]",
      "text/plain": [
       "<Figure size 432x288 with 1 Axes>"
      ]
     },
     "metadata": {},
     "output_type": "display_data"
    }
   ],
   "source": [
    "df8 = df.drop_duplicates(['Subject ID'],keep='last').groupby('nWBV').count()['Subject ID']\n",
    "# bar7 = df8.plot(kind='bar',grid=True)\n",
    "df8.plot.line()"
   ]
  },
  {
   "cell_type": "code",
   "execution_count": 16,
   "metadata": {},
   "outputs": [],
   "source": [
    "# PUT THIS IN BINS\n",
    "bins = np.arange(60,100,3)\n",
    "# len(bins) # = 14\n",
    "# groups = [f'{holder}-{bins[i+1]}' for i, holder in enumerate(bins[:-1])]\n",
    "\n",
    "# df['Age Group'] = pd.cut(df['Age'],bins,labels=groups,include_lowest=True)\n",
    "\n",
    "# df9 = df.drop_duplicates(['Subject ID'],keep='last').groupby('eTIV').count()['Subject ID']\n",
    "# bar8 = df9.plot(kind='bar',grid=True)"
   ]
  },
  {
   "cell_type": "code",
   "execution_count": 28,
   "metadata": {},
   "outputs": [
    {
     "data": {
      "text/plain": [
       "0.0    70\n",
       "0.5    50\n",
       "1.0    19\n",
       "2.0     3\n",
       "Name: CDR, dtype: int64"
      ]
     },
     "execution_count": 28,
     "metadata": {},
     "output_type": "execute_result"
    }
   ],
   "source": [
    "# df.drop_duplicates(['Subject ID'],keep='first')['CDR'].value_counts()\n",
    "df.drop_duplicates(['Subject ID'],keep='last')['CDR'].value_counts()\n",
    "# df.drop_duplicates(['Subject ID'],keep='last')['Group'].value_counts()"
   ]
  },
  {
   "cell_type": "code",
   "execution_count": 38,
   "metadata": {},
   "outputs": [
    {
     "data": {
      "text/plain": [
       "<matplotlib.axes._subplots.AxesSubplot at 0x221dbe35828>"
      ]
     },
     "execution_count": 38,
     "metadata": {},
     "output_type": "execute_result"
    },
    {
     "data": {
      "image/png": "[encoded data removed]",
      "text/plain": [
       "<Figure size 432x288 with 1 Axes>"
      ]
     },
     "metadata": {},
     "output_type": "display_data"
    },
    {
     "data": {
      "image/png": "[encoded data removed]",
      "text/plain": [
       "<Figure size 432x288 with 1 Axes>"
      ]
     },
     "metadata": {},
     "output_type": "display_data"
    },
    {
     "data": {
      "image/png": "[encoded data removed]",
      "text/plain": [
       "<Figure size 432x288 with 1 Axes>"
      ]
     },
     "metadata": {},
     "output_type": "display_data"
    },
    {
     "data": {
      "image/png": "[encoded data removed]",
      "text/plain": [
       "<Figure size 432x288 with 1 Axes>"
      ]
     },
     "metadata": {},
     "output_type": "display_data"
    }
   ],
   "source": [
    "# NO TREND TO FIND, dropped n/a rows\n",
    "mag = df.drop_duplicates(['Subject ID'],keep='last')[['eTIV','EDUC']]\n",
    "mag.plot.scatter(x='eTIV',y='EDUC')\n",
    "\n",
    "mag = df.drop_duplicates(['Subject ID'],keep='last')[['nWBV','EDUC']]\n",
    "mag.plot.scatter(x='nWBV',y='EDUC')\n",
    "\n",
    "mag = df.drop_duplicates(['Subject ID'],keep='last')[['CDR','EDUC']]\n",
    "mag.plot.scatter(x='CDR',y='EDUC')\n",
    "\n",
    "mag = df.drop_duplicates(['Subject ID'],keep='last')[['MMSE','EDUC']]\n",
    "mag.plot.scatter(x='MMSE',y='EDUC')"
   ]
  },
  {
   "cell_type": "code",
   "execution_count": 39,
   "metadata": {
    "scrolled": false
   },
   "outputs": [
    {
     "data": {
      "text/plain": [
       "<matplotlib.axes._subplots.AxesSubplot at 0x221dbc54cf8>"
      ]
     },
     "execution_count": 39,
     "metadata": {},
     "output_type": "execute_result"
    },
    {
     "data": {
      "image/png": "[encoded data removed]",
      "text/plain": [
       "<Figure size 432x288 with 1 Axes>"
      ]
     },
     "metadata": {},
     "output_type": "display_data"
    },
    {
     "data": {
      "image/png": "[encoded data removed]",
      "text/plain": [
       "<Figure size 432x288 with 1 Axes>"
      ]
     },
     "metadata": {},
     "output_type": "display_data"
    },
    {
     "data": {
      "image/png": "[encoded data removed]",
      "text/plain": [
       "<Figure size 432x288 with 1 Axes>"
      ]
     },
     "metadata": {},
     "output_type": "display_data"
    },
    {
     "data": {
      "image/png": "[encoded data removed]",
      "text/plain": [
       "<Figure size 432x288 with 1 Axes>"
      ]
     },
     "metadata": {},
     "output_type": "display_data"
    }
   ],
   "source": [
    "# NO TREND TO FIND, dropped n/a rows\n",
    "mag = df.drop_duplicates(['Subject ID'],keep='last')[['eTIV','SES']]\n",
    "mag.plot.scatter(x='eTIV',y='SES')\n",
    "\n",
    "mag = df.drop_duplicates(['Subject ID'],keep='last')[['nWBV','SES']]\n",
    "mag.plot.scatter(x='nWBV',y='SES')\n",
    "\n",
    "mag = df.drop_duplicates(['Subject ID'],keep='last')[['CDR','SES']]\n",
    "mag.plot.scatter(x='CDR',y='SES')\n",
    "\n",
    "mag = df.drop_duplicates(['Subject ID'],keep='last')[['MMSE','SES']]\n",
    "mag.plot.scatter(x='MMSE',y='SES')"
   ]
  },
  {
   "cell_type": "code",
   "execution_count": 74,
   "metadata": {},
   "outputs": [
    {
     "name": "stdout",
     "output_type": "stream",
     "text": [
      "The difference in sample means is significant.\n",
      "p-value: 1.0801310928197671e-25\n"
     ]
    },
    {
     "data": {
      "image/png": "[encoded data removed]",
      "text/plain": [
       "<Figure size 432x288 with 1 Axes>"
      ]
     },
     "metadata": {},
     "output_type": "display_data"
    }
   ],
   "source": [
    "# t test between demented and non demented\n",
    "m1 = df.drop_duplicates(['Subject ID'],keep='last').loc[df['Group'] == 'Demented']['CDR'].mean()\n",
    "m2 = df.drop_duplicates(['Subject ID'],keep='last').loc[df['Group'] == 'Nondemented']['CDR'].mean()\n",
    "\n",
    "s1 = df.drop_duplicates(['Subject ID'],keep='last').loc[df['Group'] == 'Demented']['CDR'].sem()\n",
    "s2 = df.drop_duplicates(['Subject ID'],keep='last').loc[df['Group'] == 'Nondemented']['CDR'].sem()\n",
    "\n",
    "means = [m1,m2]\n",
    "x_axis = np.arange(0, len(means))\n",
    "sems = [s1,s2]\n",
    "\n",
    "fig, ax = plt.subplots()\n",
    "ax.errorbar(x_axis, means, yerr=sems, fmt=\"o\")\n",
    "\n",
    "pop1 = df.drop_duplicates(['Subject ID'],keep='last').loc[df['Group'] == 'Demented']['CDR']\n",
    "pop2 = df.drop_duplicates(['Subject ID'],keep='last').loc[df['Group'] == 'Nondemented']['CDR']\n",
    "\n",
    "(t_stat, p) = stats.ttest_ind(pop1, pop2, equal_var=False)\n",
    "\n",
    "if p < 0.05:\n",
    "    print(\"The difference in sample means is significant.\")\n",
    "else:\n",
    "    print(\"The difference in sample means is not significant.\")\n",
    "    \n",
    "print(f'p-value: {p}')"
   ]
  },
  {
   "cell_type": "code",
   "execution_count": 75,
   "metadata": {},
   "outputs": [
    {
     "name": "stdout",
     "output_type": "stream",
     "text": [
      "The difference in sample means is significant.\n",
      "p-value: 0.030094038248275973\n"
     ]
    },
    {
     "data": {
      "image/png": "[encoded data removed]",
      "text/plain": [
       "<Figure size 432x288 with 1 Axes>"
      ]
     },
     "metadata": {},
     "output_type": "display_data"
    }
   ],
   "source": [
    "# t test between demented and non demented\n",
    "m1 = df.drop_duplicates(['Subject ID'],keep='last').loc[df['Group'] == 'Demented']['EDUC'].mean()\n",
    "m2 = df.drop_duplicates(['Subject ID'],keep='last').loc[df['Group'] == 'Nondemented']['EDUC'].mean()\n",
    "\n",
    "s1 = df.drop_duplicates(['Subject ID'],keep='last').loc[df['Group'] == 'Demented']['EDUC'].sem()\n",
    "s2 = df.drop_duplicates(['Subject ID'],keep='last').loc[df['Group'] == 'Nondemented']['EDUC'].sem()\n",
    "\n",
    "means = [m1,m2]\n",
    "x_axis = np.arange(0, len(means))\n",
    "sems = [s1,s2]\n",
    "\n",
    "fig, ax = plt.subplots()\n",
    "ax.errorbar(x_axis, means, yerr=sems, fmt=\"o\")\n",
    "\n",
    "pop1 = df.drop_duplicates(['Subject ID'],keep='last').loc[df['Group'] == 'Demented']['EDUC']\n",
    "pop2 = df.drop_duplicates(['Subject ID'],keep='last').loc[df['Group'] == 'Nondemented']['EDUC']\n",
    "\n",
    "(t_stat, p) = stats.ttest_ind(pop1, pop2, equal_var=False)\n",
    "\n",
    "if p < 0.05:\n",
    "    print(\"The difference in sample means is significant.\")\n",
    "else:\n",
    "    print(\"The difference in sample means is not significant.\")\n",
    "    \n",
    "print(f'p-value: {p}')"
   ]
  },
  {
   "cell_type": "code",
   "execution_count": 76,
   "metadata": {},
   "outputs": [
    {
     "name": "stdout",
     "output_type": "stream",
     "text": [
      "The difference in sample means is not significant.\n",
      "p-value: 0.41661219052905774\n"
     ]
    },
    {
     "data": {
      "image/png": "[encoded data removed]",
      "text/plain": [
       "<Figure size 432x288 with 1 Axes>"
      ]
     },
     "metadata": {},
     "output_type": "display_data"
    }
   ],
   "source": [
    "# t test between demented and non demented\n",
    "m1 = df.drop_duplicates(['Subject ID'],keep='last').loc[df['Group'] == 'Demented']['SES'].mean()\n",
    "m2 = df.drop_duplicates(['Subject ID'],keep='last').loc[df['Group'] == 'Nondemented']['SES'].mean()\n",
    "\n",
    "s1 = df.drop_duplicates(['Subject ID'],keep='last').loc[df['Group'] == 'Demented']['SES'].sem()\n",
    "s2 = df.drop_duplicates(['Subject ID'],keep='last').loc[df['Group'] == 'Nondemented']['SES'].sem()\n",
    "\n",
    "means = [m1,m2]\n",
    "x_axis = np.arange(0, len(means))\n",
    "sems = [s1,s2]\n",
    "\n",
    "fig, ax = plt.subplots()\n",
    "ax.errorbar(x_axis, means, yerr=sems, fmt=\"o\")\n",
    "\n",
    "pop1 = df.drop_duplicates(['Subject ID'],keep='last').loc[df['Group'] == 'Demented']['SES']\n",
    "pop2 = df.drop_duplicates(['Subject ID'],keep='last').loc[df['Group'] == 'Nondemented']['SES']\n",
    "\n",
    "(t_stat, p) = stats.ttest_ind(pop1, pop2, equal_var=False)\n",
    "\n",
    "if p < 0.05:\n",
    "    print(\"The difference in sample means is significant.\")\n",
    "else:\n",
    "    print(\"The difference in sample means is not significant.\")\n",
    "    \n",
    "print(f'p-value: {p}')"
   ]
  },
  {
   "cell_type": "code",
   "execution_count": 78,
   "metadata": {},
   "outputs": [
    {
     "name": "stdout",
     "output_type": "stream",
     "text": [
      "The difference in sample means is not significant.\n",
      "p-value: 0.8954213416211908\n"
     ]
    },
    {
     "data": {
      "image/png": "[encoded data removed]",
      "text/plain": [
       "<Figure size 432x288 with 1 Axes>"
      ]
     },
     "metadata": {},
     "output_type": "display_data"
    }
   ],
   "source": [
    "# t test between demented and non demented\n",
    "m1 = df.drop_duplicates(['Subject ID'],keep='last').loc[df['Group'] == 'Demented']['eTIV'].mean()\n",
    "m2 = df.drop_duplicates(['Subject ID'],keep='last').loc[df['Group'] == 'Nondemented']['eTIV'].mean()\n",
    "\n",
    "s1 = df.drop_duplicates(['Subject ID'],keep='last').loc[df['Group'] == 'Demented']['eTIV'].sem()\n",
    "s2 = df.drop_duplicates(['Subject ID'],keep='last').loc[df['Group'] == 'Nondemented']['eTIV'].sem()\n",
    "\n",
    "means = [m1,m2]\n",
    "x_axis = np.arange(0, len(means))\n",
    "sems = [s1,s2]\n",
    "\n",
    "fig, ax = plt.subplots()\n",
    "ax.errorbar(x_axis, means, yerr=sems, fmt=\"o\")\n",
    "\n",
    "pop1 = df.drop_duplicates(['Subject ID'],keep='last').loc[df['Group'] == 'Demented']['eTIV']\n",
    "pop2 = df.drop_duplicates(['Subject ID'],keep='last').loc[df['Group'] == 'Nondemented']['eTIV']\n",
    "\n",
    "(t_stat, p) = stats.ttest_ind(pop1, pop2, equal_var=False)\n",
    "\n",
    "if p < 0.05:\n",
    "    print(\"The difference in sample means is significant.\")\n",
    "else:\n",
    "    print(\"The difference in sample means is not significant.\")\n",
    "    \n",
    "print(f'p-value: {p}')"
   ]
  },
  {
   "cell_type": "code",
   "execution_count": 79,
   "metadata": {},
   "outputs": [
    {
     "name": "stdout",
     "output_type": "stream",
     "text": [
      "The difference in sample means is significant.\n",
      "p-value: 0.00032065145779558435\n"
     ]
    },
    {
     "data": {
      "image/png": "[encoded data removed]",
      "text/plain": [
       "<Figure size 432x288 with 1 Axes>"
      ]
     },
     "metadata": {},
     "output_type": "display_data"
    }
   ],
   "source": [
    "# t test between demented and non demented\n",
    "m1 = df.drop_duplicates(['Subject ID'],keep='last').loc[df['Group'] == 'Demented']['nWBV'].mean()\n",
    "m2 = df.drop_duplicates(['Subject ID'],keep='last').loc[df['Group'] == 'Nondemented']['nWBV'].mean()\n",
    "\n",
    "s1 = df.drop_duplicates(['Subject ID'],keep='last').loc[df['Group'] == 'Demented']['nWBV'].sem()\n",
    "s2 = df.drop_duplicates(['Subject ID'],keep='last').loc[df['Group'] == 'Nondemented']['nWBV'].sem()\n",
    "\n",
    "means = [m1,m2]\n",
    "x_axis = np.arange(0, len(means))\n",
    "sems = [s1,s2]\n",
    "\n",
    "fig, ax = plt.subplots()\n",
    "ax.errorbar(x_axis, means, yerr=sems, fmt=\"o\")\n",
    "\n",
    "pop1 = df.drop_duplicates(['Subject ID'],keep='last').loc[df['Group'] == 'Demented']['nWBV']\n",
    "pop2 = df.drop_duplicates(['Subject ID'],keep='last').loc[df['Group'] == 'Nondemented']['nWBV']\n",
    "\n",
    "(t_stat, p) = stats.ttest_ind(pop1, pop2, equal_var=False)\n",
    "\n",
    "if p < 0.05:\n",
    "    print(\"The difference in sample means is significant.\")\n",
    "else:\n",
    "    print(\"The difference in sample means is not significant.\")\n",
    "    \n",
    "print(f'p-value: {p}')"
   ]
  },
  {
   "cell_type": "code",
   "execution_count": 80,
   "metadata": {},
   "outputs": [
    {
     "name": "stdout",
     "output_type": "stream",
     "text": [
      "The difference in sample means is significant.\n",
      "p-value: 0.02420216655520744\n"
     ]
    },
    {
     "data": {
      "image/png": "[encoded data removed]",
      "text/plain": [
       "<Figure size 432x288 with 1 Axes>"
      ]
     },
     "metadata": {},
     "output_type": "display_data"
    }
   ],
   "source": [
    "# t test between demented and non demented\n",
    "m1 = df.drop_duplicates(['Subject ID'],keep='last').loc[df['Group'] == 'Demented']['Visit'].mean()\n",
    "m2 = df.drop_duplicates(['Subject ID'],keep='last').loc[df['Group'] == 'Nondemented']['Visit'].mean()\n",
    "\n",
    "s1 = df.drop_duplicates(['Subject ID'],keep='last').loc[df['Group'] == 'Demented']['Visit'].sem()\n",
    "s2 = df.drop_duplicates(['Subject ID'],keep='last').loc[df['Group'] == 'Nondemented']['Visit'].sem()\n",
    "\n",
    "means = [m1,m2]\n",
    "x_axis = np.arange(0, len(means))\n",
    "sems = [s1,s2]\n",
    "\n",
    "fig, ax = plt.subplots()\n",
    "ax.errorbar(x_axis, means, yerr=sems, fmt=\"o\")\n",
    "\n",
    "pop1 = df.drop_duplicates(['Subject ID'],keep='last').loc[df['Group'] == 'Demented']['Visit']\n",
    "pop2 = df.drop_duplicates(['Subject ID'],keep='last').loc[df['Group'] == 'Nondemented']['Visit']\n",
    "\n",
    "(t_stat, p) = stats.ttest_ind(pop1, pop2, equal_var=False)\n",
    "\n",
    "if p < 0.05:\n",
    "    print(\"The difference in sample means is significant.\")\n",
    "else:\n",
    "    print(\"The difference in sample means is not significant.\")\n",
    "    \n",
    "print(f'p-value: {p}')"
   ]
  },
  {
   "cell_type": "code",
   "execution_count": null,
   "metadata": {},
   "outputs": [],
   "source": [
    "# CHANGE TO CDR, eTIV, nWBV, EDUC, SES\n",
    "# not significant: SES, eTIV, \n",
    "# significant: MMSE, CDR, nWBV\n",
    "# \n",
    "# interestingly, # of visits is significant with nondemented having more visits"
   ]
  }
 ],
 "metadata": {
  "kernelspec": {
   "display_name": "Python 3",
   "language": "python",
   "name": "python3"
  },
  "language_info": {
   "codemirror_mode": {
    "name": "ipython",
    "version": 3
   },
   "file_extension": ".py",
   "mimetype": "text/x-python",
   "name": "python",
   "nbconvert_exporter": "python",
   "pygments_lexer": "ipython3",
   "version": "3.6.5"
  }
 },
 "nbformat": 4,
 "nbformat_minor": 2
}
