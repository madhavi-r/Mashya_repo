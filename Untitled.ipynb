{
 "cells": [
  {
   "cell_type": "code",
   "execution_count": 96,
   "metadata": {},
   "outputs": [],
   "source": [
    "% matplotlib inline"
   ]
  },
  {
   "cell_type": "code",
   "execution_count": 97,
   "metadata": {},
   "outputs": [],
   "source": [
    "import matplotlib.pyplot as plt\n",
    "import pandas as pd\n",
    "import numpy as np\n",
    "import os"
   ]
  },
  {
   "cell_type": "code",
   "execution_count": 98,
   "metadata": {
    "scrolled": true
   },
   "outputs": [
    {
     "data": {
      "text/html": [
       "<div>\n",
       "<style scoped>\n",
       "    .dataframe tbody tr th:only-of-type {\n",
       "        vertical-align: middle;\n",
       "    }\n",
       "\n",
       "    .dataframe tbody tr th {\n",
       "        vertical-align: top;\n",
       "    }\n",
       "\n",
       "    .dataframe thead th {\n",
       "        text-align: right;\n",
       "    }\n",
       "</style>\n",
       "<table border=\"1\" class=\"dataframe\">\n",
       "  <thead>\n",
       "    <tr style=\"text-align: right;\">\n",
       "      <th></th>\n",
       "      <th>Subject ID</th>\n",
       "      <th>MRI ID</th>\n",
       "      <th>Group</th>\n",
       "      <th>Visit</th>\n",
       "      <th>MR Delay</th>\n",
       "      <th>M/F</th>\n",
       "      <th>Hand</th>\n",
       "      <th>Age</th>\n",
       "      <th>EDUC</th>\n",
       "      <th>EDU_SCALED</th>\n",
       "      <th>SES</th>\n",
       "      <th>MMSE</th>\n",
       "      <th>CDR</th>\n",
       "      <th>eTIV</th>\n",
       "      <th>nWBV</th>\n",
       "      <th>ASF</th>\n",
       "    </tr>\n",
       "  </thead>\n",
       "  <tbody>\n",
       "    <tr>\n",
       "      <th>0</th>\n",
       "      <td>OAS2_0018</td>\n",
       "      <td>OAS2_0018_MR1</td>\n",
       "      <td>Converted</td>\n",
       "      <td>1</td>\n",
       "      <td>0</td>\n",
       "      <td>F</td>\n",
       "      <td>R</td>\n",
       "      <td>87</td>\n",
       "      <td>14</td>\n",
       "      <td>2.882353</td>\n",
       "      <td>1.0</td>\n",
       "      <td>30.0</td>\n",
       "      <td>0.0</td>\n",
       "      <td>1406</td>\n",
       "      <td>0.715</td>\n",
       "      <td>1.248</td>\n",
       "    </tr>\n",
       "    <tr>\n",
       "      <th>1</th>\n",
       "      <td>OAS2_0018</td>\n",
       "      <td>OAS2_0018_MR3</td>\n",
       "      <td>Converted</td>\n",
       "      <td>3</td>\n",
       "      <td>489</td>\n",
       "      <td>F</td>\n",
       "      <td>R</td>\n",
       "      <td>88</td>\n",
       "      <td>14</td>\n",
       "      <td>2.882353</td>\n",
       "      <td>1.0</td>\n",
       "      <td>29.0</td>\n",
       "      <td>0.0</td>\n",
       "      <td>1398</td>\n",
       "      <td>0.713</td>\n",
       "      <td>1.255</td>\n",
       "    </tr>\n",
       "    <tr>\n",
       "      <th>2</th>\n",
       "      <td>OAS2_0020</td>\n",
       "      <td>OAS2_0020_MR1</td>\n",
       "      <td>Converted</td>\n",
       "      <td>1</td>\n",
       "      <td>0</td>\n",
       "      <td>M</td>\n",
       "      <td>R</td>\n",
       "      <td>80</td>\n",
       "      <td>20</td>\n",
       "      <td>4.294118</td>\n",
       "      <td>1.0</td>\n",
       "      <td>29.0</td>\n",
       "      <td>0.0</td>\n",
       "      <td>1587</td>\n",
       "      <td>0.693</td>\n",
       "      <td>1.106</td>\n",
       "    </tr>\n",
       "    <tr>\n",
       "      <th>3</th>\n",
       "      <td>OAS2_0031</td>\n",
       "      <td>OAS2_0031_MR1</td>\n",
       "      <td>Converted</td>\n",
       "      <td>1</td>\n",
       "      <td>0</td>\n",
       "      <td>F</td>\n",
       "      <td>R</td>\n",
       "      <td>86</td>\n",
       "      <td>12</td>\n",
       "      <td>2.411765</td>\n",
       "      <td>3.0</td>\n",
       "      <td>30.0</td>\n",
       "      <td>0.0</td>\n",
       "      <td>1430</td>\n",
       "      <td>0.718</td>\n",
       "      <td>1.227</td>\n",
       "    </tr>\n",
       "    <tr>\n",
       "      <th>4</th>\n",
       "      <td>OAS2_0031</td>\n",
       "      <td>OAS2_0031_MR2</td>\n",
       "      <td>Converted</td>\n",
       "      <td>2</td>\n",
       "      <td>446</td>\n",
       "      <td>F</td>\n",
       "      <td>R</td>\n",
       "      <td>88</td>\n",
       "      <td>12</td>\n",
       "      <td>2.411765</td>\n",
       "      <td>3.0</td>\n",
       "      <td>30.0</td>\n",
       "      <td>0.0</td>\n",
       "      <td>1445</td>\n",
       "      <td>0.719</td>\n",
       "      <td>1.215</td>\n",
       "    </tr>\n",
       "  </tbody>\n",
       "</table>\n",
       "</div>"
      ],
      "text/plain": [
       "  Subject ID         MRI ID      Group  Visit  MR Delay M/F Hand  Age  EDUC  \\\n",
       "0  OAS2_0018  OAS2_0018_MR1  Converted      1         0   F    R   87    14   \n",
       "1  OAS2_0018  OAS2_0018_MR3  Converted      3       489   F    R   88    14   \n",
       "2  OAS2_0020  OAS2_0020_MR1  Converted      1         0   M    R   80    20   \n",
       "3  OAS2_0031  OAS2_0031_MR1  Converted      1         0   F    R   86    12   \n",
       "4  OAS2_0031  OAS2_0031_MR2  Converted      2       446   F    R   88    12   \n",
       "\n",
       "   EDU_SCALED  SES  MMSE  CDR  eTIV   nWBV    ASF  \n",
       "0    2.882353  1.0  30.0  0.0  1406  0.715  1.248  \n",
       "1    2.882353  1.0  29.0  0.0  1398  0.713  1.255  \n",
       "2    4.294118  1.0  29.0  0.0  1587  0.693  1.106  \n",
       "3    2.411765  3.0  30.0  0.0  1430  0.718  1.227  \n",
       "4    2.411765  3.0  30.0  0.0  1445  0.719  1.215  "
      ]
     },
     "execution_count": 98,
     "metadata": {},
     "output_type": "execute_result"
    }
   ],
   "source": [
    "path = os.path.join('calcs.csv')\n",
    "df = pd.read_csv(path)\n",
    "df.head()"
   ]
  },
  {
   "cell_type": "code",
   "execution_count": 99,
   "metadata": {},
   "outputs": [
    {
     "data": {
      "text/plain": [
       "Subject ID    373\n",
       "MRI ID        373\n",
       "Group         373\n",
       "Visit         373\n",
       "MR Delay      373\n",
       "M/F           373\n",
       "Hand          373\n",
       "Age           373\n",
       "EDUC          373\n",
       "EDU_SCALED    373\n",
       "SES           354\n",
       "MMSE          371\n",
       "CDR           373\n",
       "eTIV          373\n",
       "nWBV          373\n",
       "ASF           373\n",
       "dtype: int64"
      ]
     },
     "execution_count": 99,
     "metadata": {},
     "output_type": "execute_result"
    }
   ],
   "source": [
    "df.count()"
   ]
  },
  {
   "cell_type": "code",
   "execution_count": 100,
   "metadata": {},
   "outputs": [
    {
     "data": {
      "text/html": [
       "<div>\n",
       "<style scoped>\n",
       "    .dataframe tbody tr th:only-of-type {\n",
       "        vertical-align: middle;\n",
       "    }\n",
       "\n",
       "    .dataframe tbody tr th {\n",
       "        vertical-align: top;\n",
       "    }\n",
       "\n",
       "    .dataframe thead th {\n",
       "        text-align: right;\n",
       "    }\n",
       "</style>\n",
       "<table border=\"1\" class=\"dataframe\">\n",
       "  <thead>\n",
       "    <tr style=\"text-align: right;\">\n",
       "      <th></th>\n",
       "      <th></th>\n",
       "      <th>Group</th>\n",
       "      <th>Visit</th>\n",
       "      <th>MR Delay</th>\n",
       "      <th>M/F</th>\n",
       "      <th>Hand</th>\n",
       "      <th>Age</th>\n",
       "      <th>EDUC</th>\n",
       "      <th>EDU_SCALED</th>\n",
       "      <th>SES</th>\n",
       "      <th>MMSE</th>\n",
       "      <th>CDR</th>\n",
       "      <th>eTIV</th>\n",
       "      <th>nWBV</th>\n",
       "      <th>ASF</th>\n",
       "    </tr>\n",
       "    <tr>\n",
       "      <th>Subject ID</th>\n",
       "      <th>MRI ID</th>\n",
       "      <th></th>\n",
       "      <th></th>\n",
       "      <th></th>\n",
       "      <th></th>\n",
       "      <th></th>\n",
       "      <th></th>\n",
       "      <th></th>\n",
       "      <th></th>\n",
       "      <th></th>\n",
       "      <th></th>\n",
       "      <th></th>\n",
       "      <th></th>\n",
       "      <th></th>\n",
       "      <th></th>\n",
       "    </tr>\n",
       "  </thead>\n",
       "  <tbody>\n",
       "    <tr>\n",
       "      <th rowspan=\"2\" valign=\"top\">OAS2_0018</th>\n",
       "      <th>OAS2_0018_MR1</th>\n",
       "      <td>Converted</td>\n",
       "      <td>1</td>\n",
       "      <td>0</td>\n",
       "      <td>F</td>\n",
       "      <td>R</td>\n",
       "      <td>87</td>\n",
       "      <td>14</td>\n",
       "      <td>2.882353</td>\n",
       "      <td>1.0</td>\n",
       "      <td>30.0</td>\n",
       "      <td>0.0</td>\n",
       "      <td>1406</td>\n",
       "      <td>0.715</td>\n",
       "      <td>1.248</td>\n",
       "    </tr>\n",
       "    <tr>\n",
       "      <th>OAS2_0018_MR3</th>\n",
       "      <td>Converted</td>\n",
       "      <td>3</td>\n",
       "      <td>489</td>\n",
       "      <td>F</td>\n",
       "      <td>R</td>\n",
       "      <td>88</td>\n",
       "      <td>14</td>\n",
       "      <td>2.882353</td>\n",
       "      <td>1.0</td>\n",
       "      <td>29.0</td>\n",
       "      <td>0.0</td>\n",
       "      <td>1398</td>\n",
       "      <td>0.713</td>\n",
       "      <td>1.255</td>\n",
       "    </tr>\n",
       "    <tr>\n",
       "      <th>OAS2_0020</th>\n",
       "      <th>OAS2_0020_MR1</th>\n",
       "      <td>Converted</td>\n",
       "      <td>1</td>\n",
       "      <td>0</td>\n",
       "      <td>M</td>\n",
       "      <td>R</td>\n",
       "      <td>80</td>\n",
       "      <td>20</td>\n",
       "      <td>4.294118</td>\n",
       "      <td>1.0</td>\n",
       "      <td>29.0</td>\n",
       "      <td>0.0</td>\n",
       "      <td>1587</td>\n",
       "      <td>0.693</td>\n",
       "      <td>1.106</td>\n",
       "    </tr>\n",
       "    <tr>\n",
       "      <th rowspan=\"2\" valign=\"top\">OAS2_0031</th>\n",
       "      <th>OAS2_0031_MR1</th>\n",
       "      <td>Converted</td>\n",
       "      <td>1</td>\n",
       "      <td>0</td>\n",
       "      <td>F</td>\n",
       "      <td>R</td>\n",
       "      <td>86</td>\n",
       "      <td>12</td>\n",
       "      <td>2.411765</td>\n",
       "      <td>3.0</td>\n",
       "      <td>30.0</td>\n",
       "      <td>0.0</td>\n",
       "      <td>1430</td>\n",
       "      <td>0.718</td>\n",
       "      <td>1.227</td>\n",
       "    </tr>\n",
       "    <tr>\n",
       "      <th>OAS2_0031_MR2</th>\n",
       "      <td>Converted</td>\n",
       "      <td>2</td>\n",
       "      <td>446</td>\n",
       "      <td>F</td>\n",
       "      <td>R</td>\n",
       "      <td>88</td>\n",
       "      <td>12</td>\n",
       "      <td>2.411765</td>\n",
       "      <td>3.0</td>\n",
       "      <td>30.0</td>\n",
       "      <td>0.0</td>\n",
       "      <td>1445</td>\n",
       "      <td>0.719</td>\n",
       "      <td>1.215</td>\n",
       "    </tr>\n",
       "  </tbody>\n",
       "</table>\n",
       "</div>"
      ],
      "text/plain": [
       "                              Group  Visit  MR Delay M/F Hand  Age  EDUC  \\\n",
       "Subject ID MRI ID                                                          \n",
       "OAS2_0018  OAS2_0018_MR1  Converted      1         0   F    R   87    14   \n",
       "           OAS2_0018_MR3  Converted      3       489   F    R   88    14   \n",
       "OAS2_0020  OAS2_0020_MR1  Converted      1         0   M    R   80    20   \n",
       "OAS2_0031  OAS2_0031_MR1  Converted      1         0   F    R   86    12   \n",
       "           OAS2_0031_MR2  Converted      2       446   F    R   88    12   \n",
       "\n",
       "                          EDU_SCALED  SES  MMSE  CDR  eTIV   nWBV    ASF  \n",
       "Subject ID MRI ID                                                         \n",
       "OAS2_0018  OAS2_0018_MR1    2.882353  1.0  30.0  0.0  1406  0.715  1.248  \n",
       "           OAS2_0018_MR3    2.882353  1.0  29.0  0.0  1398  0.713  1.255  \n",
       "OAS2_0020  OAS2_0020_MR1    4.294118  1.0  29.0  0.0  1587  0.693  1.106  \n",
       "OAS2_0031  OAS2_0031_MR1    2.411765  3.0  30.0  0.0  1430  0.718  1.227  \n",
       "           OAS2_0031_MR2    2.411765  3.0  30.0  0.0  1445  0.719  1.215  "
      ]
     },
     "execution_count": 100,
     "metadata": {},
     "output_type": "execute_result"
    }
   ],
   "source": [
    "df.head()\n",
    "df2 = df.set_index(['Subject ID','MRI ID'])\n",
    "df2.head()"
   ]
  },
  {
   "cell_type": "code",
   "execution_count": 101,
   "metadata": {},
   "outputs": [
    {
     "data": {
      "image/png": "[encoded data removed]",
      "text/plain": [
       "<Figure size 432x288 with 1 Axes>"
      ]
     },
     "metadata": {},
     "output_type": "display_data"
    }
   ],
   "source": [
    "df3 = df.groupby('M/F').count()['Subject ID']\n",
    "bar = df3.plot(kind='bar',grid=True)"
   ]
  },
  {
   "cell_type": "code",
   "execution_count": 102,
   "metadata": {
    "scrolled": false
   },
   "outputs": [
    {
     "data": {
      "text/plain": [
       "373"
      ]
     },
     "execution_count": 102,
     "metadata": {},
     "output_type": "execute_result"
    },
    {
     "data": {
      "image/png": "[encoded data removed]",
      "text/plain": [
       "<Figure size 432x288 with 1 Axes>"
      ]
     },
     "metadata": {},
     "output_type": "display_data"
    }
   ],
   "source": [
    "df4 = df.groupby('Group').count()['Subject ID']\n",
    "bar2 = df4.plot(kind='barh',grid=True)\n",
    "df4.sum()"
   ]
  },
  {
   "cell_type": "code",
   "execution_count": 104,
   "metadata": {
    "scrolled": false
   },
   "outputs": [
    {
     "data": {
      "text/plain": [
       "Group\n",
       "Demented       183\n",
       "Nondemented    190\n",
       "dtype: int64"
      ]
     },
     "execution_count": 104,
     "metadata": {},
     "output_type": "execute_result"
    },
    {
     "data": {
      "image/png": "[encoded data removed]",
      "text/plain": [
       "<Figure size 432x288 with 1 Axes>"
      ]
     },
     "metadata": {},
     "output_type": "display_data"
    }
   ],
   "source": [
    "bins = np.arange(60,100,3)\n",
    "# len(bins) # = 14\n",
    "groups = [f'{holder}-{bins[i+1]}' for i, holder in enumerate(bins[:-1])]\n",
    "\n",
    "df['Age Group'] = pd.cut(df['Age'],bins,labels=groups,include_lowest=True)\n",
    "\n",
    "# if possible, combine converted to demented for this chart\n",
    "df5 = df.loc[df['Group'] == 'Converted', 'Group'] = 'Demented'\n",
    "\n",
    "df5 = df.groupby(['Age Group','Group']).count()['Subject ID'].unstack()\n",
    "df5.head(20)\n",
    "bar3 = df5.plot(kind='bar',stacked=True,grid=True)\n",
    "df5.sum()\n",
    "\n"
   ]
  },
  {
   "cell_type": "code",
   "execution_count": 91,
   "metadata": {
    "scrolled": true
   },
   "outputs": [
    {
     "data": {
      "image/png": "[encoded data removed]",
      "text/plain": [
       "<Figure size 432x288 with 4 Axes>"
      ]
     },
     "metadata": {},
     "output_type": "display_data"
    }
   ],
   "source": [
    "# converted = df.loc\n",
    "# demented = \n",
    "# nondemented = \n",
    "# temp = pd.DataFrame({'Converted':})\n",
    "\n",
    "df6 = df[['Group','Age']].groupby('Group')\n",
    "df6.head()\n",
    "\n",
    "# df5 = df.groupby(['Age Group','Group']).count()['Subject ID'].unstack()\n",
    "box = df6.boxplot()\n",
    "plt.tight_layout()\n"
   ]
  },
  {
   "cell_type": "code",
   "execution_count": 95,
   "metadata": {},
   "outputs": [
    {
     "data": {
      "image/png": "[encoded data removed]",
      "text/plain": [
       "<Figure size 432x288 with 1 Axes>"
      ]
     },
     "metadata": {},
     "output_type": "display_data"
    }
   ],
   "source": [
    "df7 = df.groupby(['Group','SES']).count()['Subject ID']\n"
   ]
  },
  {
   "cell_type": "code",
   "execution_count": null,
   "metadata": {},
   "outputs": [],
   "source": []
  }
 ],
 "metadata": {
  "kernelspec": {
   "display_name": "Python 3",
   "language": "python",
   "name": "python3"
  },
  "language_info": {
   "codemirror_mode": {
    "name": "ipython",
    "version": 3
   },
   "file_extension": ".py",
   "mimetype": "text/x-python",
   "name": "python",
   "nbconvert_exporter": "python",
   "pygments_lexer": "ipython3",
   "version": "3.6.5"
  }
 },
 "nbformat": 4,
 "nbformat_minor": 2
}
